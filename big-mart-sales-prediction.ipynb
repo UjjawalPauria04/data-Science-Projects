{
 "cells": [
  {
   "cell_type": "markdown",
   "id": "65a60d86",
   "metadata": {},
   "source": [
    "# Importing Libraries"
   ]
  },
  {
   "cell_type": "code",
   "execution_count": 1,
   "id": "binary-innocent",
   "metadata": {
    "execution": {
     "iopub.execute_input": "2021-05-30T20:24:13.752152Z",
     "iopub.status.busy": "2021-05-30T20:24:13.751659Z",
     "iopub.status.idle": "2021-05-30T20:24:13.755670Z",
     "shell.execute_reply": "2021-05-30T20:24:13.755098Z",
     "shell.execute_reply.started": "2021-05-30T20:23:07.524622Z"
    },
    "papermill": {
     "duration": 0.034466,
     "end_time": "2021-05-30T20:24:13.755790",
     "exception": false,
     "start_time": "2021-05-30T20:24:13.721324",
     "status": "completed"
    },
    "tags": []
   },
   "outputs": [],
   "source": [
    "#Importing libraries\n",
    "import os\n",
    "import pandas as pd\n",
    "import numpy as np\n",
    "import matplotlib.pyplot as plt\n",
    "%matplotlib inline"
   ]
  },
  {
   "cell_type": "markdown",
   "id": "victorian-object",
   "metadata": {
    "papermill": {
     "duration": 0.024726,
     "end_time": "2021-05-30T20:24:13.806185",
     "exception": false,
     "start_time": "2021-05-30T20:24:13.781459",
     "status": "completed"
    },
    "tags": []
   },
   "source": [
    "# Data Exploration and Preprocessing"
   ]
  },
  {
   "cell_type": "code",
   "execution_count": 2,
   "id": "ready-jamaica",
   "metadata": {
    "execution": {
     "iopub.execute_input": "2021-05-30T20:24:13.860887Z",
     "iopub.status.busy": "2021-05-30T20:24:13.860366Z",
     "iopub.status.idle": "2021-05-30T20:24:13.906798Z",
     "shell.execute_reply": "2021-05-30T20:24:13.906314Z",
     "shell.execute_reply.started": "2021-05-30T20:23:07.532980Z"
    },
    "papermill": {
     "duration": 0.07513,
     "end_time": "2021-05-30T20:24:13.906920",
     "exception": false,
     "start_time": "2021-05-30T20:24:13.831790",
     "status": "completed"
    },
    "tags": []
   },
   "outputs": [],
   "source": [
    "#loading train data\n",
    "train = pd.read_csv(\"../input/big-mart-sales-prediction/Train.csv\")"
   ]
  },
  {
   "cell_type": "code",
   "execution_count": 3,
   "id": "fresh-incidence",
   "metadata": {
    "execution": {
     "iopub.execute_input": "2021-05-30T20:24:13.961199Z",
     "iopub.status.busy": "2021-05-30T20:24:13.960732Z",
     "iopub.status.idle": "2021-05-30T20:24:13.982466Z",
     "shell.execute_reply": "2021-05-30T20:24:13.981908Z",
     "shell.execute_reply.started": "2021-05-30T20:23:07.606098Z"
    },
    "papermill": {
     "duration": 0.05026,
     "end_time": "2021-05-30T20:24:13.982580",
     "exception": false,
     "start_time": "2021-05-30T20:24:13.932320",
     "status": "completed"
    },
    "tags": []
   },
   "outputs": [
    {
     "data": {
      "text/plain": [
       "Item_Identifier                 0\n",
       "Item_Weight                  1463\n",
       "Item_Fat_Content                0\n",
       "Item_Visibility                 0\n",
       "Item_Type                       0\n",
       "Item_MRP                        0\n",
       "Outlet_Identifier               0\n",
       "Outlet_Establishment_Year       0\n",
       "Outlet_Size                  2410\n",
       "Outlet_Location_Type            0\n",
       "Outlet_Type                     0\n",
       "Item_Outlet_Sales               0\n",
       "dtype: int64"
      ]
     },
     "execution_count": 3,
     "metadata": {},
     "output_type": "execute_result"
    }
   ],
   "source": [
    "#check for missing values\n",
    "train.isna().sum()"
   ]
  },
  {
   "cell_type": "code",
   "execution_count": 4,
   "id": "coral-strap",
   "metadata": {
    "execution": {
     "iopub.execute_input": "2021-05-30T20:24:14.094910Z",
     "iopub.status.busy": "2021-05-30T20:24:14.094267Z",
     "iopub.status.idle": "2021-05-30T20:24:14.097643Z",
     "shell.execute_reply": "2021-05-30T20:24:14.097159Z",
     "shell.execute_reply.started": "2021-05-30T20:23:07.633265Z"
    },
    "papermill": {
     "duration": 0.037843,
     "end_time": "2021-05-30T20:24:14.097746",
     "exception": false,
     "start_time": "2021-05-30T20:24:14.059903",
     "status": "completed"
    },
    "tags": []
   },
   "outputs": [
    {
     "data": {
      "text/plain": [
       "0"
      ]
     },
     "execution_count": 4,
     "metadata": {},
     "output_type": "execute_result"
    }
   ],
   "source": [
    "#impute missing values in Item_Weight using mean\n",
    "train.Item_Weight.fillna(train.Item_Weight.mean(), inplace=True)\n",
    "train.Item_Weight.isna().sum()"
   ]
  },
  {
   "cell_type": "code",
   "execution_count": 5,
   "id": "exterior-floor",
   "metadata": {
    "execution": {
     "iopub.execute_input": "2021-05-30T20:24:14.153609Z",
     "iopub.status.busy": "2021-05-30T20:24:14.152944Z",
     "iopub.status.idle": "2021-05-30T20:24:14.164155Z",
     "shell.execute_reply": "2021-05-30T20:24:14.163728Z",
     "shell.execute_reply.started": "2021-05-30T20:23:07.647762Z"
    },
    "papermill": {
     "duration": 0.03983,
     "end_time": "2021-05-30T20:24:14.164267",
     "exception": false,
     "start_time": "2021-05-30T20:24:14.124437",
     "status": "completed"
    },
    "tags": []
   },
   "outputs": [
    {
     "data": {
      "text/plain": [
       "0"
      ]
     },
     "execution_count": 5,
     "metadata": {},
     "output_type": "execute_result"
    }
   ],
   "source": [
    "#impute missing values in Outlet_Size using mode\n",
    "train.Outlet_Size.fillna(train.Outlet_Size.mode()[0], inplace=True)\n",
    "train.Outlet_Size.isna().sum()"
   ]
  },
  {
   "cell_type": "code",
   "execution_count": 6,
   "id": "academic-choir",
   "metadata": {
    "execution": {
     "iopub.execute_input": "2021-05-30T20:24:14.277971Z",
     "iopub.status.busy": "2021-05-30T20:24:14.277436Z",
     "iopub.status.idle": "2021-05-30T20:24:14.282298Z",
     "shell.execute_reply": "2021-05-30T20:24:14.281829Z",
     "shell.execute_reply.started": "2021-05-30T20:23:07.664111Z"
    },
    "papermill": {
     "duration": 0.038701,
     "end_time": "2021-05-30T20:24:14.282440",
     "exception": false,
     "start_time": "2021-05-30T20:24:14.243739",
     "status": "completed"
    },
    "tags": []
   },
   "outputs": [
    {
     "data": {
      "text/plain": [
       "Item_Identifier               object\n",
       "Item_Weight                  float64\n",
       "Item_Fat_Content              object\n",
       "Item_Visibility              float64\n",
       "Item_Type                     object\n",
       "Item_MRP                     float64\n",
       "Outlet_Identifier             object\n",
       "Outlet_Establishment_Year      int64\n",
       "Outlet_Size                   object\n",
       "Outlet_Location_Type          object\n",
       "Outlet_Type                   object\n",
       "Item_Outlet_Sales            float64\n",
       "dtype: object"
      ]
     },
     "execution_count": 6,
     "metadata": {},
     "output_type": "execute_result"
    }
   ],
   "source": [
    "#checking categorical variables in the data\n",
    "train.dtypes"
   ]
  },
  {
   "cell_type": "code",
   "execution_count": 7,
   "id": "cardiac-canberra",
   "metadata": {
    "execution": {
     "iopub.execute_input": "2021-05-30T20:24:14.393549Z",
     "iopub.status.busy": "2021-05-30T20:24:14.392985Z",
     "iopub.status.idle": "2021-05-30T20:24:15.701677Z",
     "shell.execute_reply": "2021-05-30T20:24:15.700500Z",
     "shell.execute_reply.started": "2021-05-30T20:23:07.678230Z"
    },
    "papermill": {
     "duration": 1.339854,
     "end_time": "2021-05-30T20:24:15.701848",
     "exception": false,
     "start_time": "2021-05-30T20:24:14.361994",
     "status": "completed"
    },
    "tags": []
   },
   "outputs": [
    {
     "name": "stderr",
     "output_type": "stream",
     "text": [
      "/opt/conda/lib/python3.7/site-packages/category_encoders/utils.py:21: FutureWarning: is_categorical is deprecated and will be removed in a future version.  Use is_categorical_dtype instead\n",
      "  elif pd.api.types.is_categorical(cols):\n"
     ]
    }
   ],
   "source": [
    "import category_encoders as ce\n",
    "\n",
    "#create an object of OneHotEncorder\n",
    "OHE = ce.OneHotEncoder(cols=['Item_Fat_Content',\n",
    "                            'Item_Type',\n",
    "                            'Outlet_Identifier',\n",
    "                            'Outlet_Size',\n",
    "                            'Outlet_Location_Type',\n",
    "                            'Outlet_Type'],use_cat_names=True)\n",
    "\n",
    "#encode the variables\n",
    "train = OHE.fit_transform(train)"
   ]
  },
  {
   "cell_type": "code",
   "execution_count": 8,
   "id": "southwest-metabolism",
   "metadata": {
    "execution": {
     "iopub.execute_input": "2021-05-30T20:24:15.765957Z",
     "iopub.status.busy": "2021-05-30T20:24:15.765307Z",
     "iopub.status.idle": "2021-05-30T20:24:15.788857Z",
     "shell.execute_reply": "2021-05-30T20:24:15.788118Z",
     "shell.execute_reply.started": "2021-05-30T20:23:09.052608Z"
    },
    "papermill": {
     "duration": 0.057509,
     "end_time": "2021-05-30T20:24:15.788999",
     "exception": false,
     "start_time": "2021-05-30T20:24:15.731490",
     "status": "completed"
    },
    "tags": []
   },
   "outputs": [
    {
     "data": {
      "text/html": [
       "<div>\n",
       "<style scoped>\n",
       "    .dataframe tbody tr th:only-of-type {\n",
       "        vertical-align: middle;\n",
       "    }\n",
       "\n",
       "    .dataframe tbody tr th {\n",
       "        vertical-align: top;\n",
       "    }\n",
       "\n",
       "    .dataframe thead th {\n",
       "        text-align: right;\n",
       "    }\n",
       "</style>\n",
       "<table border=\"1\" class=\"dataframe\">\n",
       "  <thead>\n",
       "    <tr style=\"text-align: right;\">\n",
       "      <th></th>\n",
       "      <th>Item_Identifier</th>\n",
       "      <th>Item_Weight</th>\n",
       "      <th>Item_Fat_Content_Low Fat</th>\n",
       "      <th>Item_Fat_Content_Regular</th>\n",
       "      <th>Item_Fat_Content_low fat</th>\n",
       "      <th>Item_Fat_Content_LF</th>\n",
       "      <th>Item_Fat_Content_reg</th>\n",
       "      <th>Item_Visibility</th>\n",
       "      <th>Item_Type_Dairy</th>\n",
       "      <th>Item_Type_Soft Drinks</th>\n",
       "      <th>...</th>\n",
       "      <th>Outlet_Size_High</th>\n",
       "      <th>Outlet_Size_Small</th>\n",
       "      <th>Outlet_Location_Type_Tier 1</th>\n",
       "      <th>Outlet_Location_Type_Tier 3</th>\n",
       "      <th>Outlet_Location_Type_Tier 2</th>\n",
       "      <th>Outlet_Type_Supermarket Type1</th>\n",
       "      <th>Outlet_Type_Supermarket Type2</th>\n",
       "      <th>Outlet_Type_Grocery Store</th>\n",
       "      <th>Outlet_Type_Supermarket Type3</th>\n",
       "      <th>Item_Outlet_Sales</th>\n",
       "    </tr>\n",
       "  </thead>\n",
       "  <tbody>\n",
       "    <tr>\n",
       "      <th>0</th>\n",
       "      <td>FDA15</td>\n",
       "      <td>9.30</td>\n",
       "      <td>1</td>\n",
       "      <td>0</td>\n",
       "      <td>0</td>\n",
       "      <td>0</td>\n",
       "      <td>0</td>\n",
       "      <td>0.016047</td>\n",
       "      <td>1</td>\n",
       "      <td>0</td>\n",
       "      <td>...</td>\n",
       "      <td>0</td>\n",
       "      <td>0</td>\n",
       "      <td>1</td>\n",
       "      <td>0</td>\n",
       "      <td>0</td>\n",
       "      <td>1</td>\n",
       "      <td>0</td>\n",
       "      <td>0</td>\n",
       "      <td>0</td>\n",
       "      <td>3735.1380</td>\n",
       "    </tr>\n",
       "    <tr>\n",
       "      <th>1</th>\n",
       "      <td>DRC01</td>\n",
       "      <td>5.92</td>\n",
       "      <td>0</td>\n",
       "      <td>1</td>\n",
       "      <td>0</td>\n",
       "      <td>0</td>\n",
       "      <td>0</td>\n",
       "      <td>0.019278</td>\n",
       "      <td>0</td>\n",
       "      <td>1</td>\n",
       "      <td>...</td>\n",
       "      <td>0</td>\n",
       "      <td>0</td>\n",
       "      <td>0</td>\n",
       "      <td>1</td>\n",
       "      <td>0</td>\n",
       "      <td>0</td>\n",
       "      <td>1</td>\n",
       "      <td>0</td>\n",
       "      <td>0</td>\n",
       "      <td>443.4228</td>\n",
       "    </tr>\n",
       "    <tr>\n",
       "      <th>2</th>\n",
       "      <td>FDN15</td>\n",
       "      <td>17.50</td>\n",
       "      <td>1</td>\n",
       "      <td>0</td>\n",
       "      <td>0</td>\n",
       "      <td>0</td>\n",
       "      <td>0</td>\n",
       "      <td>0.016760</td>\n",
       "      <td>0</td>\n",
       "      <td>0</td>\n",
       "      <td>...</td>\n",
       "      <td>0</td>\n",
       "      <td>0</td>\n",
       "      <td>1</td>\n",
       "      <td>0</td>\n",
       "      <td>0</td>\n",
       "      <td>1</td>\n",
       "      <td>0</td>\n",
       "      <td>0</td>\n",
       "      <td>0</td>\n",
       "      <td>2097.2700</td>\n",
       "    </tr>\n",
       "    <tr>\n",
       "      <th>3</th>\n",
       "      <td>FDX07</td>\n",
       "      <td>19.20</td>\n",
       "      <td>0</td>\n",
       "      <td>1</td>\n",
       "      <td>0</td>\n",
       "      <td>0</td>\n",
       "      <td>0</td>\n",
       "      <td>0.000000</td>\n",
       "      <td>0</td>\n",
       "      <td>0</td>\n",
       "      <td>...</td>\n",
       "      <td>0</td>\n",
       "      <td>0</td>\n",
       "      <td>0</td>\n",
       "      <td>1</td>\n",
       "      <td>0</td>\n",
       "      <td>0</td>\n",
       "      <td>0</td>\n",
       "      <td>1</td>\n",
       "      <td>0</td>\n",
       "      <td>732.3800</td>\n",
       "    </tr>\n",
       "    <tr>\n",
       "      <th>4</th>\n",
       "      <td>NCD19</td>\n",
       "      <td>8.93</td>\n",
       "      <td>1</td>\n",
       "      <td>0</td>\n",
       "      <td>0</td>\n",
       "      <td>0</td>\n",
       "      <td>0</td>\n",
       "      <td>0.000000</td>\n",
       "      <td>0</td>\n",
       "      <td>0</td>\n",
       "      <td>...</td>\n",
       "      <td>1</td>\n",
       "      <td>0</td>\n",
       "      <td>0</td>\n",
       "      <td>1</td>\n",
       "      <td>0</td>\n",
       "      <td>1</td>\n",
       "      <td>0</td>\n",
       "      <td>0</td>\n",
       "      <td>0</td>\n",
       "      <td>994.7052</td>\n",
       "    </tr>\n",
       "  </tbody>\n",
       "</table>\n",
       "<p>5 rows × 47 columns</p>\n",
       "</div>"
      ],
      "text/plain": [
       "  Item_Identifier  Item_Weight  Item_Fat_Content_Low Fat  \\\n",
       "0           FDA15         9.30                         1   \n",
       "1           DRC01         5.92                         0   \n",
       "2           FDN15        17.50                         1   \n",
       "3           FDX07        19.20                         0   \n",
       "4           NCD19         8.93                         1   \n",
       "\n",
       "   Item_Fat_Content_Regular  Item_Fat_Content_low fat  Item_Fat_Content_LF  \\\n",
       "0                         0                         0                    0   \n",
       "1                         1                         0                    0   \n",
       "2                         0                         0                    0   \n",
       "3                         1                         0                    0   \n",
       "4                         0                         0                    0   \n",
       "\n",
       "   Item_Fat_Content_reg  Item_Visibility  Item_Type_Dairy  \\\n",
       "0                     0         0.016047                1   \n",
       "1                     0         0.019278                0   \n",
       "2                     0         0.016760                0   \n",
       "3                     0         0.000000                0   \n",
       "4                     0         0.000000                0   \n",
       "\n",
       "   Item_Type_Soft Drinks  ...  Outlet_Size_High  Outlet_Size_Small  \\\n",
       "0                      0  ...                 0                  0   \n",
       "1                      1  ...                 0                  0   \n",
       "2                      0  ...                 0                  0   \n",
       "3                      0  ...                 0                  0   \n",
       "4                      0  ...                 1                  0   \n",
       "\n",
       "   Outlet_Location_Type_Tier 1  Outlet_Location_Type_Tier 3  \\\n",
       "0                            1                            0   \n",
       "1                            0                            1   \n",
       "2                            1                            0   \n",
       "3                            0                            1   \n",
       "4                            0                            1   \n",
       "\n",
       "   Outlet_Location_Type_Tier 2  Outlet_Type_Supermarket Type1  \\\n",
       "0                            0                              1   \n",
       "1                            0                              0   \n",
       "2                            0                              1   \n",
       "3                            0                              0   \n",
       "4                            0                              1   \n",
       "\n",
       "   Outlet_Type_Supermarket Type2  Outlet_Type_Grocery Store  \\\n",
       "0                              0                          0   \n",
       "1                              1                          0   \n",
       "2                              0                          0   \n",
       "3                              0                          1   \n",
       "4                              0                          0   \n",
       "\n",
       "   Outlet_Type_Supermarket Type3  Item_Outlet_Sales  \n",
       "0                              0          3735.1380  \n",
       "1                              0           443.4228  \n",
       "2                              0          2097.2700  \n",
       "3                              0           732.3800  \n",
       "4                              0           994.7052  \n",
       "\n",
       "[5 rows x 47 columns]"
      ]
     },
     "execution_count": 8,
     "metadata": {},
     "output_type": "execute_result"
    }
   ],
   "source": [
    "train.head()"
   ]
  },
  {
   "cell_type": "code",
   "execution_count": 9,
   "id": "talented-yemen",
   "metadata": {
    "execution": {
     "iopub.execute_input": "2021-05-30T20:24:15.957484Z",
     "iopub.status.busy": "2021-05-30T20:24:15.956938Z",
     "iopub.status.idle": "2021-05-30T20:24:15.996082Z",
     "shell.execute_reply": "2021-05-30T20:24:15.995654Z",
     "shell.execute_reply.started": "2021-05-30T20:23:09.084955Z"
    },
    "papermill": {
     "duration": 0.084227,
     "end_time": "2021-05-30T20:24:15.996197",
     "exception": false,
     "start_time": "2021-05-30T20:24:15.911970",
     "status": "completed"
    },
    "tags": []
   },
   "outputs": [],
   "source": [
    "from sklearn.preprocessing import StandardScaler\n",
    "#create an object of the StandardScaler\n",
    "scaler = StandardScaler()\n",
    "\n",
    "#fit with the Item_MRP\n",
    "scaler.fit(np.array(train.Item_MRP).reshape(-1,1))\n",
    "\n",
    "#transform the data\n",
    "train.Item_MRP = scaler.transform(np.array(train.Item_MRP).reshape(-1,1))"
   ]
  },
  {
   "cell_type": "code",
   "execution_count": 10,
   "id": "enabling-prescription",
   "metadata": {
    "execution": {
     "iopub.execute_input": "2021-05-30T20:24:16.126168Z",
     "iopub.status.busy": "2021-05-30T20:24:16.125620Z",
     "iopub.status.idle": "2021-05-30T20:24:16.442714Z",
     "shell.execute_reply": "2021-05-30T20:24:16.442219Z",
     "shell.execute_reply.started": "2021-05-30T20:23:09.122548Z"
    },
    "papermill": {
     "duration": 0.350674,
     "end_time": "2021-05-30T20:24:16.442823",
     "exception": false,
     "start_time": "2021-05-30T20:24:16.092149",
     "status": "completed"
    },
    "tags": []
   },
   "outputs": [
    {
     "data": {
      "text/plain": [
       "((6392, 45), (2131, 45), (6392,), (2131,))"
      ]
     },
     "execution_count": 10,
     "metadata": {},
     "output_type": "execute_result"
    }
   ],
   "source": [
    "from sklearn.linear_model import LinearRegression\n",
    "from sklearn.ensemble import RandomForestRegressor\n",
    "from sklearn.model_selection import train_test_split\n",
    "from sklearn.metrics import mean_squared_error\n",
    "\n",
    "#seperate the independent and target variable\n",
    "train_X = train.drop(columns=['Item_Identifier', 'Item_Outlet_Sales'])\n",
    "train_Y = train['Item_Outlet_Sales']\n",
    "\n",
    "#split the data\n",
    "train_x, valid_x, train_y, valid_y = train_test_split(train_X, train_Y, test_size=0.25) \n",
    "\n",
    "#shape of train test splits\n",
    "train_x.shape, valid_x.shape, train_y.shape, valid_y.shape"
   ]
  },
  {
   "cell_type": "code",
   "execution_count": 11,
   "id": "better-pottery",
   "metadata": {
    "execution": {
     "iopub.execute_input": "2021-05-30T20:24:16.561517Z",
     "iopub.status.busy": "2021-05-30T20:24:16.560788Z",
     "iopub.status.idle": "2021-05-30T20:24:16.657256Z",
     "shell.execute_reply": "2021-05-30T20:24:16.657823Z",
     "shell.execute_reply.started": "2021-05-30T20:23:09.401676Z"
    },
    "papermill": {
     "duration": 0.131627,
     "end_time": "2021-05-30T20:24:16.657987",
     "exception": false,
     "start_time": "2021-05-30T20:24:16.526360",
     "status": "completed"
    },
    "tags": []
   },
   "outputs": [
    {
     "name": "stdout",
     "output_type": "stream",
     "text": [
      "RMSE on train data:  1120.746601859512\n",
      "RMSe on validation data:  1147.9427065958134\n"
     ]
    }
   ],
   "source": [
    "#LinearRegression\n",
    "LR = LinearRegression()\n",
    "\n",
    "#fit the model\n",
    "LR.fit(train_x, train_y)\n",
    "\n",
    "#predict the target on train and validation data\n",
    "train_pred = LR.predict(train_x)\n",
    "valid_pred = LR.predict(valid_x)\n",
    "\n",
    "# RMSE on train and validation data\n",
    "print('RMSE on train data: ', mean_squared_error(train_y, train_pred)**(0.5))\n",
    "print('RMSe on validation data: ', mean_squared_error(valid_y, valid_pred)**(0.5))"
   ]
  },
  {
   "cell_type": "code",
   "execution_count": 12,
   "id": "loved-fourth",
   "metadata": {
    "execution": {
     "iopub.execute_input": "2021-05-30T20:24:16.815559Z",
     "iopub.status.busy": "2021-05-30T20:24:16.814881Z",
     "iopub.status.idle": "2021-05-30T20:24:18.923009Z",
     "shell.execute_reply": "2021-05-30T20:24:18.923497Z",
     "shell.execute_reply.started": "2021-05-30T20:23:09.469576Z"
    },
    "papermill": {
     "duration": 2.141567,
     "end_time": "2021-05-30T20:24:18.923669",
     "exception": false,
     "start_time": "2021-05-30T20:24:16.782102",
     "status": "completed"
    },
    "tags": []
   },
   "outputs": [
    {
     "name": "stdout",
     "output_type": "stream",
     "text": [
      "RMSE on train data : 894.6959458326626\n",
      "RMSE on validation data : 1107.415312588672\n"
     ]
    }
   ],
   "source": [
    "#RandomForestRegressor\n",
    "RFR = RandomForestRegressor(max_depth=10)\n",
    "\n",
    "#fitting the model\n",
    "RFR.fit(train_x, train_y)\n",
    "\n",
    "#predict the target on train and validation data\n",
    "train_pred = RFR.predict(train_x)\n",
    "valid_pred = RFR.predict(valid_x)\n",
    "\n",
    "#RMSE on train and test data\n",
    "print('RMSE on train data :', mean_squared_error(train_y, train_pred)**(0.5))\n",
    "print('RMSE on validation data :', mean_squared_error(valid_y, valid_pred)**(0.5))\n"
   ]
  },
  {
   "cell_type": "code",
   "execution_count": 13,
   "id": "institutional-approach",
   "metadata": {
    "execution": {
     "iopub.execute_input": "2021-05-30T20:24:19.046436Z",
     "iopub.status.busy": "2021-05-30T20:24:19.045722Z",
     "iopub.status.idle": "2021-05-30T20:24:19.251972Z",
     "shell.execute_reply": "2021-05-30T20:24:19.251455Z",
     "shell.execute_reply.started": "2021-05-30T20:23:11.747813Z"
    },
    "papermill": {
     "duration": 0.242182,
     "end_time": "2021-05-30T20:24:19.252081",
     "exception": false,
     "start_time": "2021-05-30T20:24:19.009899",
     "status": "completed"
    },
    "tags": []
   },
   "outputs": [
    {
     "data": {
      "image/png": "[encoded data removed]",
      "text/plain": [
       "<Figure size 720x576 with 1 Axes>"
      ]
     },
     "metadata": {
      "needs_background": "light"
     },
     "output_type": "display_data"
    }
   ],
   "source": [
    "#plot the 7 most important features\n",
    "plt.figure(figsize=(10,8))\n",
    "feat_importances = pd.Series(RFR.feature_importances_, index = train_x.columns)\n",
    "feat_importances.nlargest(7).plot(kind='barh');"
   ]
  },
  {
   "cell_type": "code",
   "execution_count": 14,
   "id": "corporate-agriculture",
   "metadata": {
    "execution": {
     "iopub.execute_input": "2021-05-30T20:24:19.314414Z",
     "iopub.status.busy": "2021-05-30T20:24:19.313873Z",
     "iopub.status.idle": "2021-05-30T20:24:19.316442Z",
     "shell.execute_reply": "2021-05-30T20:24:19.316768Z",
     "shell.execute_reply.started": "2021-05-30T20:23:11.989978Z"
    },
    "papermill": {
     "duration": 0.036034,
     "end_time": "2021-05-30T20:24:19.316889",
     "exception": false,
     "start_time": "2021-05-30T20:24:19.280855",
     "status": "completed"
    },
    "tags": []
   },
   "outputs": [],
   "source": [
    "#training data with top 7 features\n",
    "train_x_7 = train_x[['Item_MRP',\n",
    "                      'Outlet_Type_Grocery Store',\n",
    "                      'Item_Visibility',\n",
    "                      'Outlet_Identifier_OUT027',\n",
    "                      'Outlet_Type_Supermarket Type3',\n",
    "                      'Item_Weight',\n",
    "                      'Outlet_Establishment_Year']]\n",
    "\n",
    "#validation data with top 7 important features\n",
    "valid_x_7 = valid_x[['Item_MRP',\n",
    "                      'Outlet_Type_Grocery Store',\n",
    "                      'Item_Visibility',\n",
    "                      'Outlet_Identifier_OUT027',\n",
    "                      'Outlet_Type_Supermarket Type3',\n",
    "                      'Item_Weight',\n",
    "                      'Outlet_Establishment_Year']]\n",
    "\n",
    "#create an object of the RandomForestRegressor Model\n",
    "RFR_with_7 = RandomForestRegressor(max_depth=10, random_state=2)\n"
   ]
  },
  {
   "cell_type": "code",
   "execution_count": 15,
   "id": "complete-egyptian",
   "metadata": {
    "execution": {
     "iopub.execute_input": "2021-05-30T20:24:19.377289Z",
     "iopub.status.busy": "2021-05-30T20:24:19.376484Z",
     "iopub.status.idle": "2021-05-30T20:24:20.680283Z",
     "shell.execute_reply": "2021-05-30T20:24:20.680677Z",
     "shell.execute_reply.started": "2021-05-30T20:23:12.000018Z"
    },
    "papermill": {
     "duration": 1.336835,
     "end_time": "2021-05-30T20:24:20.680816",
     "exception": false,
     "start_time": "2021-05-30T20:24:19.343981",
     "status": "completed"
    },
    "tags": []
   },
   "outputs": [
    {
     "name": "stdout",
     "output_type": "stream",
     "text": [
      "RMSE on train data:  900.2794436902191\n",
      "RMSE on validation data:  1116.0683486702458\n"
     ]
    }
   ],
   "source": [
    "#fit the model\n",
    "RFR_with_7.fit(train_x_7, train_y)\n",
    "\n",
    "#predict the target on the training and validation data\n",
    "pred_train_with_7 = RFR_with_7.predict(train_x_7)\n",
    "pred_valid_with_7 = RFR_with_7.predict(valid_x_7)\n",
    "\n",
    "#RMSE on train and validation data\n",
    "print('RMSE on train data: ', mean_squared_error(train_y, pred_train_with_7)**(0.5))\n",
    "print('RMSE on validation data: ', mean_squared_error(valid_y, pred_valid_with_7)**(0.5))"
   ]
  },
  {
   "cell_type": "code",
   "execution_count": 16,
   "id": "efficient-poland",
   "metadata": {
    "execution": {
     "iopub.execute_input": "2021-05-30T20:24:21.205970Z",
     "iopub.status.busy": "2021-05-30T20:24:21.205367Z",
     "iopub.status.idle": "2021-05-30T20:24:21.223885Z",
     "shell.execute_reply": "2021-05-30T20:24:21.223347Z",
     "shell.execute_reply.started": "2021-05-30T20:23:13.374036Z"
    },
    "papermill": {
     "duration": 0.051371,
     "end_time": "2021-05-30T20:24:21.223994",
     "exception": false,
     "start_time": "2021-05-30T20:24:21.172623",
     "status": "completed"
    },
    "tags": []
   },
   "outputs": [],
   "source": [
    "#importing required libraries\n",
    "import pandas as pd\n",
    "from sklearn.compose import ColumnTransformer\n",
    "from sklearn.impute import SimpleImputer\n",
    "import category_encoders as ce \n",
    "from sklearn.preprocessing import StandardScaler\n",
    "from sklearn.ensemble import RandomForestRegressor\n",
    "from sklearn.pipeline import Pipeline"
   ]
  },
  {
   "cell_type": "code",
   "execution_count": 17,
   "id": "raised-jewelry",
   "metadata": {
    "execution": {
     "iopub.execute_input": "2021-05-30T20:24:21.285628Z",
     "iopub.status.busy": "2021-05-30T20:24:21.285106Z",
     "iopub.status.idle": "2021-05-30T20:24:21.317325Z",
     "shell.execute_reply": "2021-05-30T20:24:21.316754Z",
     "shell.execute_reply.started": "2021-05-30T20:23:13.394419Z"
    },
    "papermill": {
     "duration": 0.064821,
     "end_time": "2021-05-30T20:24:21.317484",
     "exception": false,
     "start_time": "2021-05-30T20:24:21.252663",
     "status": "completed"
    },
    "tags": []
   },
   "outputs": [],
   "source": [
    "#read training dataset\n",
    "train = pd.read_csv(\"../input/big-mart-sales-prediction/Train.csv\")"
   ]
  },
  {
   "cell_type": "code",
   "execution_count": 18,
   "id": "corresponding-karma",
   "metadata": {
    "execution": {
     "iopub.execute_input": "2021-05-30T20:24:21.410530Z",
     "iopub.status.busy": "2021-05-30T20:24:21.410010Z",
     "iopub.status.idle": "2021-05-30T20:24:21.416093Z",
     "shell.execute_reply": "2021-05-30T20:24:21.415463Z",
     "shell.execute_reply.started": "2021-05-30T20:23:13.421299Z"
    },
    "papermill": {
     "duration": 0.054907,
     "end_time": "2021-05-30T20:24:21.416228",
     "exception": false,
     "start_time": "2021-05-30T20:24:21.361321",
     "status": "completed"
    },
    "tags": []
   },
   "outputs": [],
   "source": [
    "#seperate the independent and target variables\n",
    "train_x = train.drop(columns=['Item_Outlet_Sales'])\n",
    "train_y = train['Item_Outlet_Sales']"
   ]
  },
  {
   "cell_type": "code",
   "execution_count": 19,
   "id": "broke-premiere",
   "metadata": {
    "execution": {
     "iopub.execute_input": "2021-05-30T20:24:21.598034Z",
     "iopub.status.busy": "2021-05-30T20:24:21.597231Z",
     "iopub.status.idle": "2021-05-30T20:24:21.601345Z",
     "shell.execute_reply": "2021-05-30T20:24:21.600726Z",
     "shell.execute_reply.started": "2021-05-30T20:23:13.428886Z"
    },
    "papermill": {
     "duration": 0.053807,
     "end_time": "2021-05-30T20:24:21.601502",
     "exception": false,
     "start_time": "2021-05-30T20:24:21.547695",
     "status": "completed"
    },
    "tags": []
   },
   "outputs": [],
   "source": [
    "# import the BaseEstimator\n",
    "from sklearn.base import BaseEstimator\n",
    "\n",
    "# define the class OutletTypeEncoder\n",
    "# This will be our custom transformer that will create 3 new binary columns\n",
    "# custom transformer must have methods fit and transform\n",
    "\n",
    "class OutletTypeEncoder(BaseEstimator):\n",
    "\n",
    "    def __init__(self):\n",
    "        pass\n",
    "\n",
    "    def fit(self, documents, y=None):\n",
    "        return self\n",
    "\n",
    "    def transform(self, x_dataset):\n",
    "        x_dataset['outlet_grocery_store'] = (x_dataset['Outlet_Type'] == 'Grocery Store')*1\n",
    "        x_dataset['outlet_supermarket_3'] = (x_dataset['Outlet_Type'] == 'Supermarket Type3')*1\n",
    "        x_dataset['outlet_identifier_OUT027'] = (x_dataset['Outlet_Identifier'] == 'OUT027')*1\n",
    "        \n",
    "        return x_dataset"
   ]
  },
  {
   "cell_type": "code",
   "execution_count": 20,
   "id": "strong-hydrogen",
   "metadata": {
    "execution": {
     "iopub.execute_input": "2021-05-30T20:24:21.783613Z",
     "iopub.status.busy": "2021-05-30T20:24:21.782928Z",
     "iopub.status.idle": "2021-05-30T20:24:21.787040Z",
     "shell.execute_reply": "2021-05-30T20:24:21.786498Z",
     "shell.execute_reply.started": "2021-05-30T20:23:13.441294Z"
    },
    "papermill": {
     "duration": 0.05303,
     "end_time": "2021-05-30T20:24:21.787165",
     "exception": false,
     "start_time": "2021-05-30T20:24:21.734135",
     "status": "completed"
    },
    "tags": []
   },
   "outputs": [],
   "source": [
    "# Drop the columns - \n",
    "# Impute the missing values in column Item_Weight by mean\n",
    "# Scale the data in the column Item_MRP\n",
    "pre_process = ColumnTransformer(remainder='passthrough',\n",
    "                                transformers=[('drop_columns', 'drop', ['Item_Identifier',\n",
    "                                                                        'Outlet_Identifier',\n",
    "                                                                        'Item_Fat_Content',\n",
    "                                                                        'Item_Type',\n",
    "                                                                        'Outlet_Identifier',\n",
    "                                                                        'Outlet_Size',\n",
    "                                                                        'Outlet_Location_Type',\n",
    "                                                                        'Outlet_Type'\n",
    "                                                                       ]),\n",
    "                                              ('impute_item_weight', SimpleImputer(strategy='mean'), ['Item_Weight']),\n",
    "                                              ('scale_data', StandardScaler(),['Item_MRP'])])"
   ]
  },
  {
   "cell_type": "code",
   "execution_count": 21,
   "id": "combined-department",
   "metadata": {
    "execution": {
     "iopub.execute_input": "2021-05-30T20:24:21.966621Z",
     "iopub.status.busy": "2021-05-30T20:24:21.965170Z",
     "iopub.status.idle": "2021-05-30T20:24:24.027762Z",
     "shell.execute_reply": "2021-05-30T20:24:24.027241Z",
     "shell.execute_reply.started": "2021-05-30T20:23:13.452882Z"
    },
    "papermill": {
     "duration": 2.113165,
     "end_time": "2021-05-30T20:24:24.027869",
     "exception": false,
     "start_time": "2021-05-30T20:24:21.914704",
     "status": "completed"
    },
    "tags": []
   },
   "outputs": [
    {
     "data": {
      "text/plain": [
       "array([4348.01437159,  693.40276088, 2323.35268531, ..., 1300.83665376,\n",
       "       1508.86795688, 1152.35475793])"
      ]
     },
     "execution_count": 21,
     "metadata": {},
     "output_type": "execute_result"
    }
   ],
   "source": [
    "# Define the Pipeline\n",
    "\"\"\"\n",
    "Step1: get the oultet binary columns\n",
    "Step2: pre processing\n",
    "Step3: Train a Random Forest Model\n",
    "\"\"\"\n",
    "model_pipeline = Pipeline(steps=[('get_outlet_binary_columns', OutletTypeEncoder()), \n",
    "                                 ('pre_processing',pre_process),\n",
    "                                 ('random_forest', RandomForestRegressor(max_depth=10,random_state=2))\n",
    "                                 ])\n",
    "# fit the pipeline with the training data\n",
    "model_pipeline.fit(train_x,train_y)\n",
    "\n",
    "# predict target values on the training data\n",
    "model_pipeline.predict(train_x)"
   ]
  },
  {
   "cell_type": "code",
   "execution_count": 22,
   "id": "neural-assistant",
   "metadata": {
    "execution": {
     "iopub.execute_input": "2021-05-30T20:24:24.143791Z",
     "iopub.status.busy": "2021-05-30T20:24:24.143316Z",
     "iopub.status.idle": "2021-05-30T20:24:24.242864Z",
     "shell.execute_reply": "2021-05-30T20:24:24.243228Z",
     "shell.execute_reply.started": "2021-05-30T20:23:15.238457Z"
    },
    "papermill": {
     "duration": 0.131076,
     "end_time": "2021-05-30T20:24:24.243366",
     "exception": false,
     "start_time": "2021-05-30T20:24:24.112290",
     "status": "completed"
    },
    "tags": []
   },
   "outputs": [],
   "source": [
    "# read the test data\n",
    "test_data = pd.read_csv(\"../input/big-mart-sales-prediction/Test.csv\")\n",
    "\n",
    "# predict target variables on the test data \n",
    "y_sub = model_pipeline.predict(test_data)"
   ]
  },
  {
   "cell_type": "code",
   "execution_count": 23,
   "id": "continued-finland",
   "metadata": {
    "execution": {
     "iopub.execute_input": "2021-05-30T20:24:24.305349Z",
     "iopub.status.busy": "2021-05-30T20:24:24.304669Z",
     "iopub.status.idle": "2021-05-30T20:24:24.308251Z",
     "shell.execute_reply": "2021-05-30T20:24:24.307781Z",
     "shell.execute_reply.started": "2021-05-30T20:23:15.366415Z"
    },
    "papermill": {
     "duration": 0.036177,
     "end_time": "2021-05-30T20:24:24.308350",
     "exception": false,
     "start_time": "2021-05-30T20:24:24.272173",
     "status": "completed"
    },
    "tags": []
   },
   "outputs": [
    {
     "data": {
      "text/plain": [
       "array([1646.0548363 , 1305.4298012 ,  658.42325097, ..., 1848.60226305,\n",
       "       3959.67937864, 1384.01466986])"
      ]
     },
     "execution_count": 23,
     "metadata": {},
     "output_type": "execute_result"
    }
   ],
   "source": [
    "y_sub"
   ]
  },
  {
   "cell_type": "code",
   "execution_count": 24,
   "id": "exceptional-prospect",
   "metadata": {
    "execution": {
     "iopub.execute_input": "2021-05-30T20:24:24.369391Z",
     "iopub.status.busy": "2021-05-30T20:24:24.368734Z",
     "iopub.status.idle": "2021-05-30T20:24:24.396891Z",
     "shell.execute_reply": "2021-05-30T20:24:24.397300Z",
     "shell.execute_reply.started": "2021-05-30T20:23:15.373883Z"
    },
    "papermill": {
     "duration": 0.059869,
     "end_time": "2021-05-30T20:24:24.397449",
     "exception": false,
     "start_time": "2021-05-30T20:24:24.337580",
     "status": "completed"
    },
    "tags": []
   },
   "outputs": [
    {
     "data": {
      "text/html": [
       "<div>\n",
       "<style scoped>\n",
       "    .dataframe tbody tr th:only-of-type {\n",
       "        vertical-align: middle;\n",
       "    }\n",
       "\n",
       "    .dataframe tbody tr th {\n",
       "        vertical-align: top;\n",
       "    }\n",
       "\n",
       "    .dataframe thead th {\n",
       "        text-align: right;\n",
       "    }\n",
       "</style>\n",
       "<table border=\"1\" class=\"dataframe\">\n",
       "  <thead>\n",
       "    <tr style=\"text-align: right;\">\n",
       "      <th></th>\n",
       "      <th>Unnamed: 0</th>\n",
       "      <th>Item_Identifier</th>\n",
       "      <th>Outlet_Identifier</th>\n",
       "      <th>Item_Outlet_Sales</th>\n",
       "    </tr>\n",
       "  </thead>\n",
       "  <tbody>\n",
       "    <tr>\n",
       "      <th>0</th>\n",
       "      <td>0</td>\n",
       "      <td>FDW58</td>\n",
       "      <td>OUT049</td>\n",
       "      <td>1646.054836</td>\n",
       "    </tr>\n",
       "    <tr>\n",
       "      <th>1</th>\n",
       "      <td>1</td>\n",
       "      <td>FDW14</td>\n",
       "      <td>OUT017</td>\n",
       "      <td>1305.429801</td>\n",
       "    </tr>\n",
       "    <tr>\n",
       "      <th>2</th>\n",
       "      <td>2</td>\n",
       "      <td>NCN55</td>\n",
       "      <td>OUT010</td>\n",
       "      <td>658.423251</td>\n",
       "    </tr>\n",
       "    <tr>\n",
       "      <th>3</th>\n",
       "      <td>3</td>\n",
       "      <td>FDQ58</td>\n",
       "      <td>OUT017</td>\n",
       "      <td>2333.948545</td>\n",
       "    </tr>\n",
       "    <tr>\n",
       "      <th>4</th>\n",
       "      <td>4</td>\n",
       "      <td>FDY38</td>\n",
       "      <td>OUT027</td>\n",
       "      <td>5954.092896</td>\n",
       "    </tr>\n",
       "  </tbody>\n",
       "</table>\n",
       "</div>"
      ],
      "text/plain": [
       "   Unnamed: 0 Item_Identifier Outlet_Identifier  Item_Outlet_Sales\n",
       "0           0           FDW58            OUT049        1646.054836\n",
       "1           1           FDW14            OUT017        1305.429801\n",
       "2           2           NCN55            OUT010         658.423251\n",
       "3           3           FDQ58            OUT017        2333.948545\n",
       "4           4           FDY38            OUT027        5954.092896"
      ]
     },
     "execution_count": 24,
     "metadata": {},
     "output_type": "execute_result"
    }
   ],
   "source": [
    "sub = pd.read_csv(\"../input/big-mart-sales-prediction/Submission.csv\")\n",
    "sub[\"Item_Outlet_Sales\"] = y_sub\n",
    "sub.head()"
   ]
  },
  {
   "cell_type": "code",
   "execution_count": 25,
   "id": "loved-paint",
   "metadata": {
    "_kg_hide-input": false,
    "execution": {
     "iopub.execute_input": "2021-05-30T20:24:24.456450Z",
     "iopub.status.busy": "2021-05-30T20:24:24.456009Z",
     "iopub.status.idle": "2021-05-30T20:24:24.477730Z",
     "shell.execute_reply": "2021-05-30T20:24:24.477294Z",
     "shell.execute_reply.started": "2021-05-30T20:23:15.411902Z"
    },
    "papermill": {
     "duration": 0.052272,
     "end_time": "2021-05-30T20:24:24.477831",
     "exception": false,
     "start_time": "2021-05-30T20:24:24.425559",
     "status": "completed"
    },
    "tags": []
   },
   "outputs": [],
   "source": [
    "sub.to_csv(\"submission.csv\", index=False)"
   ]
  }
 ],
 "metadata": {
  "kernelspec": {
   "display_name": "Python 3",
   "language": "python",
   "name": "python3"
  },
  "language_info": {
   "codemirror_mode": {
    "name": "ipython",
    "version": 3
   },
   "file_extension": ".py",
   "mimetype": "text/x-python",
   "name": "python",
   "nbconvert_exporter": "python",
   "pygments_lexer": "ipython3",
   "version": "3.7.9"
  },
  "papermill": {
   "default_parameters": {},
   "duration": 16.990106,
   "end_time": "2021-05-30T20:24:25.114297",
   "environment_variables": {},
   "exception": null,
   "input_path": "__notebook__.ipynb",
   "output_path": "__notebook__.ipynb",
   "parameters": {},
   "start_time": "2021-05-30T20:24:08.124191",
   "version": "2.3.2"
  }
 },
 "nbformat": 4,
 "nbformat_minor": 5
}
